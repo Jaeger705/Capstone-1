{
 "cells": [
  {
   "cell_type": "code",
   "execution_count": 2,
   "metadata": {},
   "outputs": [],
   "source": [
    "import pandas as pd\n",
    "df = pd.read_csv(r'C:\\Users\\bigbo\\CodingTemple\\Crime_Data_from_2020_to_Present.csv')\n"
   ]
  },
  {
   "cell_type": "code",
   "execution_count": 3,
   "id": "2bd8c69a",
   "metadata": {},
   "outputs": [
    {
     "name": "stderr",
     "output_type": "stream",
     "text": [
      "C:\\Users\\bigbo\\AppData\\Local\\Temp\\ipykernel_26828\\1455038562.py:7: UserWarning: Could not infer format, so each element will be parsed individually, falling back to `dateutil`. To ensure parsing is consistent and as-expected, please specify a format.\n",
      "  df['Date Occurred'] = pd.to_datetime(df['DATE OCC']).dt.year\n"
     ]
    },
    {
     "name": "stdout",
     "output_type": "stream",
     "text": [
      "Date Occurred\n",
      "2020    35985\n",
      "2021    37644\n",
      "2022    40134\n",
      "2023    40276\n",
      "2024     8538\n",
      "dtype: int64\n"
     ]
    }
   ],
   "source": [
    "# Identifying unique crime descriptions to filter violent crimes\n",
    "# Filtering the data for violent crime categories and calculating annual counts since 2020\n",
    "violent_crimes = ['BATTERY - SIMPLE ASSAULT', 'ASSAULT WITH DEADLY WEAPON, AGGRAVATED ASSAULT',\n",
    "                  'RAPE, FORCIBLE', 'ROBBERY', 'CRIMINAL HOMICIDE']\n",
    "\n",
    "# Converting 'DATE OCC' to datetime and extracting the year\n",
    "df['Date Occurred'] = pd.to_datetime(df['DATE OCC']).dt.year\n",
    "\n",
    "# Filtering for violent crimes\n",
    "df_violent = df[df['Crm Cd Desc'].isin(violent_crimes)]\n",
    "\n",
    "# Grouping by year and counting occurrences\n",
    "annual_counts = df_violent.groupby('Date Occurred').size()\n",
    "print(annual_counts)\n",
    "\n"
   ]
  },
  {
   "cell_type": "code",
   "execution_count": 4,
   "id": "bf6f377f",
   "metadata": {},
   "outputs": [
    {
     "name": "stdout",
     "output_type": "stream",
     "text": [
      "Date Occurred\n",
      "2020    352\n",
      "2021    400\n",
      "2022    391\n",
      "2023    327\n",
      "2024     69\n",
      "dtype: int64\n"
     ]
    }
   ],
   "source": [
    "# Filtering the data specifically for 'CRIMINAL HOMICIDE' and calculating annual counts since 2020\n",
    "df_homicide = df[df['Crm Cd Desc'] == 'CRIMINAL HOMICIDE']\n",
    "\n",
    "# Grouping by year and counting occurrences\n",
    "homicide_annual_counts = df_homicide.groupby('Date Occurred').size()\n",
    "print(homicide_annual_counts)"
   ]
  },
  {
   "cell_type": "code",
   "execution_count": 5,
   "id": "6b4f53d5",
   "metadata": {},
   "outputs": [
    {
     "name": "stdout",
     "output_type": "stream",
     "text": [
      "Date Occurred\n",
      "2020    1303\n",
      "2021    1316\n",
      "2022    1245\n",
      "2023    1149\n",
      "2024     198\n",
      "dtype: int64\n"
     ]
    }
   ],
   "source": [
    "# Filtering the data specifically for sexual offenses and calculating annual counts since 2020\n",
    "sexual_offenses = ['RAPE, FORCIBLE', 'SODOMY/SEXUAL CONTACT B/W PENIS OF ONE PERS TO ANUS OTH',\n",
    "                   'SEX,UNLAWFUL(INC MUTUAL CONSENT, PENETRATION W/ FRGN OBJ']\n",
    "df_sexual_offenses = df[df['Crm Cd Desc'].isin(sexual_offenses)]\n",
    "\n",
    "# Grouping by year and counting occurrences\n",
    "sexual_offenses_annual_counts = df_sexual_offenses.groupby('Date Occurred').size()\n",
    "print(sexual_offenses_annual_counts)"
   ]
  },
  {
   "cell_type": "code",
   "execution_count": 6,
   "id": "dd01c708",
   "metadata": {},
   "outputs": [
    {
     "name": "stdout",
     "output_type": "stream",
     "text": [
      "AREA NAME\n",
      "77th Street    14552\n",
      "Central        13841\n",
      "Southeast      11513\n",
      "Newton         10426\n",
      "Southwest      10135\n",
      "Rampart         9545\n",
      "Hollywood       9484\n",
      "Olympic         9138\n",
      "Hollenbeck      6771\n",
      "N Hollywood     6547\n",
      "Harbor          6524\n",
      "Pacific         6521\n",
      "Wilshire        6517\n",
      "Mission         5611\n",
      "West Valley     5460\n",
      "Northeast       5352\n",
      "Van Nuys        5315\n",
      "Topanga         5236\n",
      "Foothill        4871\n",
      "Devonshire      4828\n",
      "West LA         4390\n",
      "Name: count, dtype: int64\n"
     ]
    }
   ],
   "source": [
    "# Analyzing the distribution of violent crimes across different areas\n",
    "area_counts = df_violent['AREA NAME'].value_counts()\n",
    "print(area_counts)"
   ]
  },
  {
   "cell_type": "code",
   "execution_count": 7,
   "id": "534c6da8",
   "metadata": {},
   "outputs": [
    {
     "name": "stdout",
     "output_type": "stream",
     "text": [
      "The most common violent crime in LA is BATTERY - SIMPLE ASSAULT with 73376 occurrences.\n"
     ]
    }
   ],
   "source": [
    "# Filtering data for violent crimes only\n",
    "df_violent = df[df['Crm Cd Desc'].isin(violent_crimes)]\n",
    "\n",
    "# Finding the most common violent crime\n",
    "crime_counts_violent = df_violent['Crm Cd Desc'].value_counts()\n",
    "most_common_violent_crime = crime_counts_violent.idxmax()\n",
    "most_common_violent_crime_count = crime_counts_violent.max()\n",
    "\n",
    "print(f'The most common violent crime in LA is {most_common_violent_crime} with {most_common_violent_crime_count} occurrences.')"
   ]
  },
  {
   "cell_type": "code",
   "execution_count": 8,
   "id": "e5aa0d6f",
   "metadata": {},
   "outputs": [
    {
     "name": "stderr",
     "output_type": "stream",
     "text": [
      "C:\\Users\\bigbo\\AppData\\Local\\Temp\\ipykernel_26828\\353141010.py:2: UserWarning: Could not infer format, so each element will be parsed individually, falling back to `dateutil`. To ensure parsing is consistent and as-expected, please specify a format.\n",
      "  df['DATE OCC'] = pd.to_datetime(df['DATE OCC'])\n"
     ]
    },
    {
     "name": "stdout",
     "output_type": "stream",
     "text": [
      "Number of battery - simple assault cases each year:\n",
      "Year\n",
      "2020    16330\n",
      "2021    16198\n",
      "2022    18058\n",
      "2023    18830\n",
      "2024     3960\n",
      "dtype: int64\n"
     ]
    },
    {
     "name": "stderr",
     "output_type": "stream",
     "text": [
      "C:\\Users\\bigbo\\AppData\\Local\\Temp\\ipykernel_26828\\353141010.py:8: SettingWithCopyWarning: \n",
      "A value is trying to be set on a copy of a slice from a DataFrame.\n",
      "Try using .loc[row_indexer,col_indexer] = value instead\n",
      "\n",
      "See the caveats in the documentation: https://pandas.pydata.org/pandas-docs/stable/user_guide/indexing.html#returning-a-view-versus-a-copy\n",
      "  df_battery['Year'] = df_battery['DATE OCC'].dt.year\n"
     ]
    }
   ],
   "source": [
    "# Convert 'DATE OCC' to datetime format\n",
    "df['DATE OCC'] = pd.to_datetime(df['DATE OCC'])\n",
    "\n",
    "# Filtering data for 'BATTERY - SIMPLE ASSAULT'\n",
    "df_battery = df[df['Crm Cd Desc'] == 'BATTERY - SIMPLE ASSAULT']\n",
    "\n",
    "# Extract the year from 'DATE OCC' now that it's a datetime object\n",
    "df_battery['Year'] = df_battery['DATE OCC'].dt.year\n",
    "\n",
    "# Group by year and count occurrences\n",
    "year_counts_battery = df_battery.groupby('Year').size()\n",
    "\n",
    "print('Number of battery - simple assault cases each year:')\n",
    "print(year_counts_battery)"
   ]
  },
  {
   "cell_type": "code",
   "execution_count": 9,
   "id": "bc2c1d66",
   "metadata": {},
   "outputs": [
    {
     "name": "stdout",
     "output_type": "stream",
     "text": [
      "Areas where battery - simple assault most often occurs:\n",
      "Area Name\n",
      "Central        6728\n",
      "77th Street    4571\n",
      "Hollywood      4467\n",
      "Southwest      4398\n",
      "Olympic        4371\n",
      "Newton         4145\n",
      "Rampart        4113\n",
      "Southeast      3833\n",
      "N Hollywood    3301\n",
      "Pacific        3238\n",
      "Name: count, dtype: int64\n"
     ]
    },
    {
     "name": "stderr",
     "output_type": "stream",
     "text": [
      "C:\\Users\\bigbo\\AppData\\Local\\Temp\\ipykernel_26828\\798583319.py:2: SettingWithCopyWarning: \n",
      "A value is trying to be set on a copy of a slice from a DataFrame.\n",
      "Try using .loc[row_indexer,col_indexer] = value instead\n",
      "\n",
      "See the caveats in the documentation: https://pandas.pydata.org/pandas-docs/stable/user_guide/indexing.html#returning-a-view-versus-a-copy\n",
      "  df_battery['Area Name'] = df_battery['AREA NAME']\n"
     ]
    }
   ],
   "source": [
    "# Analyzing the areas where battery - simple assault most often occurs\n",
    "df_battery['Area Name'] = df_battery['AREA NAME']\n",
    "area_counts_battery = df_battery['Area Name'].value_counts()\n",
    "\n",
    "print('Areas where battery - simple assault most often occurs:')\n",
    "print(area_counts_battery.head(10))"
   ]
  },
  {
   "cell_type": "code",
   "execution_count": 10,
   "id": "aadca718",
   "metadata": {},
   "outputs": [
    {
     "name": "stderr",
     "output_type": "stream",
     "text": [
      "C:\\Users\\bigbo\\AppData\\Local\\Temp\\ipykernel_26828\\4074074540.py:10: SettingWithCopyWarning: \n",
      "A value is trying to be set on a copy of a slice from a DataFrame.\n",
      "Try using .loc[row_indexer,col_indexer] = value instead\n",
      "\n",
      "See the caveats in the documentation: https://pandas.pydata.org/pandas-docs/stable/user_guide/indexing.html#returning-a-view-versus-a-copy\n",
      "  df_violent['Year'] = pd.to_datetime(df_violent['DATE OCC']).dt.year\n"
     ]
    },
    {
     "ename": "NameError",
     "evalue": "name 'df_petty' is not defined",
     "output_type": "error",
     "traceback": [
      "\u001b[1;31m---------------------------------------------------------------------------\u001b[0m",
      "\u001b[1;31mNameError\u001b[0m                                 Traceback (most recent call last)",
      "Cell \u001b[1;32mIn[10], line 14\u001b[0m\n\u001b[0;32m     11\u001b[0m violent_crime_counts \u001b[38;5;241m=\u001b[39m df_violent\u001b[38;5;241m.\u001b[39mgroupby(\u001b[38;5;124m'\u001b[39m\u001b[38;5;124mYear\u001b[39m\u001b[38;5;124m'\u001b[39m)\u001b[38;5;241m.\u001b[39msize()\n\u001b[0;32m     13\u001b[0m \u001b[38;5;66;03m# Extracting year from date and grouping by year for petty crimes\u001b[39;00m\n\u001b[1;32m---> 14\u001b[0m df_petty[\u001b[38;5;124m'\u001b[39m\u001b[38;5;124mYear\u001b[39m\u001b[38;5;124m'\u001b[39m] \u001b[38;5;241m=\u001b[39m pd\u001b[38;5;241m.\u001b[39mto_datetime(df_petty[\u001b[38;5;124m'\u001b[39m\u001b[38;5;124mDATE OCC\u001b[39m\u001b[38;5;124m'\u001b[39m])\u001b[38;5;241m.\u001b[39mdt\u001b[38;5;241m.\u001b[39myear\n\u001b[0;32m     15\u001b[0m petty_crime_counts \u001b[38;5;241m=\u001b[39m df_petty\u001b[38;5;241m.\u001b[39mgroupby(\u001b[38;5;124m'\u001b[39m\u001b[38;5;124mYear\u001b[39m\u001b[38;5;124m'\u001b[39m)\u001b[38;5;241m.\u001b[39msize()\n\u001b[0;32m     17\u001b[0m \u001b[38;5;66;03m# Creating a line graph to compare violent and petty crimes by year\u001b[39;00m\n",
      "\u001b[1;31mNameError\u001b[0m: name 'df_petty' is not defined"
     ]
    }
   ],
   "source": [
    "import matplotlib.pyplot as plt\n",
    "\n",
    "# Defining violent crimes categories\n",
    "violent_crimes = ['ASSAULT', 'ROBBERY', 'HOMICIDE', 'RAPE']\n",
    "\n",
    "# Filtering data for violent crimes\n",
    "df_violent = df[df['Crm Cd Desc'].isin(violent_crimes)]\n",
    "\n",
    "# Extracting year from date and grouping by year for violent crimes\n",
    "df_violent['Year'] = pd.to_datetime(df_violent['DATE OCC']).dt.year\n",
    "violent_crime_counts = df_violent.groupby('Year').size()\n",
    "\n",
    "# Extracting year from date and grouping by year for petty crimes\n",
    "df_petty['Year'] = pd.to_datetime(df_petty['DATE OCC']).dt.year\n",
    "petty_crime_counts = df_petty.groupby('Year').size()\n",
    "\n",
    "# Creating a line graph to compare violent and petty crimes by year\n",
    "plt.figure(figsize=(10, 6))\n",
    "plt.plot(violent_crime_counts.index, violent_crime_counts, label='Violent Crimes', marker='o')\n",
    "plt.plot(petty_crime_counts.index, petty_crime_counts, label='Petty Crimes', marker='o')\n",
    "plt.title('Comparison of Violent Crimes and Petty Crimes by Year')\n",
    "plt.xlabel('Year')\n",
    "plt.ylabel('Number of Crimes')\n",
    "plt.legend()\n",
    "plt.grid(True)\n",
    "plt.show()"
   ]
  }
 ],
 "metadata": {
  "kernelspec": {
   "display_name": "base",
   "language": "python",
   "name": "python3"
  },
  "language_info": {
   "codemirror_mode": {
    "name": "ipython",
    "version": 3
   },
   "file_extension": ".py",
   "mimetype": "text/x-python",
   "name": "python",
   "nbconvert_exporter": "python",
   "pygments_lexer": "ipython3",
   "version": "3.11.5"
  }
 },
 "nbformat": 4,
 "nbformat_minor": 5
}
