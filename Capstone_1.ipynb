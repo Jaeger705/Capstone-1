{
 "cells": [
  {
   "cell_type": "code",
   "execution_count": 2,
   "metadata": {},
   "outputs": [],
   "source": [
    "import pandas as pd\n",
    "df = pd.read_csv(r'C:\\Users\\bigbo\\CodingTemple\\Crime_Data_from_2020_to_Present.csv')\n"
   ]
  },
  {
   "cell_type": "code",
   "execution_count": 3,
   "id": "2bd8c69a",
   "metadata": {},
   "outputs": [
    {
     "name": "stderr",
     "output_type": "stream",
     "text": [
      "C:\\Users\\bigbo\\AppData\\Local\\Temp\\ipykernel_30196\\1455038562.py:7: UserWarning: Could not infer format, so each element will be parsed individually, falling back to `dateutil`. To ensure parsing is consistent and as-expected, please specify a format.\n",
      "  df['Date Occurred'] = pd.to_datetime(df['DATE OCC']).dt.year\n"
     ]
    },
    {
     "name": "stdout",
     "output_type": "stream",
     "text": [
      "Date Occurred\n",
      "2020    35985\n",
      "2021    37644\n",
      "2022    40134\n",
      "2023    40276\n",
      "2024     8538\n",
      "dtype: int64\n"
     ]
    }
   ],
   "source": [
    "# Identifying unique crime descriptions to filter violent crimes\n",
    "# Filtering the data for violent crime categories and calculating annual counts since 2020\n",
    "violent_crimes = ['BATTERY - SIMPLE ASSAULT', 'ASSAULT WITH DEADLY WEAPON, AGGRAVATED ASSAULT',\n",
    "                  'RAPE, FORCIBLE', 'ROBBERY', 'CRIMINAL HOMICIDE']\n",
    "\n",
    "# Converting 'DATE OCC' to datetime and extracting the year\n",
    "df['Date Occurred'] = pd.to_datetime(df['DATE OCC']).dt.year\n",
    "\n",
    "# Filtering for violent crimes\n",
    "df_violent = df[df['Crm Cd Desc'].isin(violent_crimes)]\n",
    "\n",
    "# Grouping by year and counting occurrences\n",
    "annual_counts = df_violent.groupby('Date Occurred').size()\n",
    "print(annual_counts)\n",
    "\n"
   ]
  },
  {
   "cell_type": "code",
   "execution_count": 4,
   "id": "bf6f377f",
   "metadata": {},
   "outputs": [
    {
     "name": "stdout",
     "output_type": "stream",
     "text": [
      "Date Occurred\n",
      "2020    352\n",
      "2021    400\n",
      "2022    391\n",
      "2023    327\n",
      "2024     69\n",
      "dtype: int64\n"
     ]
    }
   ],
   "source": [
    "# Filtering the data specifically for 'CRIMINAL HOMICIDE' and calculating annual counts since 2020\n",
    "df_homicide = df[df['Crm Cd Desc'] == 'CRIMINAL HOMICIDE']\n",
    "\n",
    "# Grouping by year and counting occurrences\n",
    "homicide_annual_counts = df_homicide.groupby('Date Occurred').size()\n",
    "print(homicide_annual_counts)"
   ]
  },
  {
   "cell_type": "code",
   "execution_count": 5,
   "id": "6b4f53d5",
   "metadata": {},
   "outputs": [
    {
     "name": "stdout",
     "output_type": "stream",
     "text": [
      "Date Occurred\n",
      "2020    1303\n",
      "2021    1316\n",
      "2022    1245\n",
      "2023    1149\n",
      "2024     198\n",
      "dtype: int64\n"
     ]
    }
   ],
   "source": [
    "# Filtering the data specifically for sexual offenses and calculating annual counts since 2020\n",
    "sexual_offenses = ['RAPE, FORCIBLE', 'SODOMY/SEXUAL CONTACT B/W PENIS OF ONE PERS TO ANUS OTH',\n",
    "                   'SEX,UNLAWFUL(INC MUTUAL CONSENT, PENETRATION W/ FRGN OBJ']\n",
    "df_sexual_offenses = df[df['Crm Cd Desc'].isin(sexual_offenses)]\n",
    "\n",
    "# Grouping by year and counting occurrences\n",
    "sexual_offenses_annual_counts = df_sexual_offenses.groupby('Date Occurred').size()\n",
    "print(sexual_offenses_annual_counts)"
   ]
  },
  {
   "cell_type": "code",
   "execution_count": 6,
   "id": "dd01c708",
   "metadata": {},
   "outputs": [
    {
     "name": "stdout",
     "output_type": "stream",
     "text": [
      "AREA NAME\n",
      "77th Street    14552\n",
      "Central        13841\n",
      "Southeast      11513\n",
      "Newton         10426\n",
      "Southwest      10135\n",
      "Rampart         9545\n",
      "Hollywood       9484\n",
      "Olympic         9138\n",
      "Hollenbeck      6771\n",
      "N Hollywood     6547\n",
      "Harbor          6524\n",
      "Pacific         6521\n",
      "Wilshire        6517\n",
      "Mission         5611\n",
      "West Valley     5460\n",
      "Northeast       5352\n",
      "Van Nuys        5315\n",
      "Topanga         5236\n",
      "Foothill        4871\n",
      "Devonshire      4828\n",
      "West LA         4390\n",
      "Name: count, dtype: int64\n"
     ]
    }
   ],
   "source": [
    "# Analyzing the distribution of violent crimes across different areas\n",
    "area_counts = df_violent['AREA NAME'].value_counts()\n",
    "print(area_counts)"
   ]
  },
  {
   "cell_type": "code",
   "execution_count": 7,
   "id": "534c6da8",
   "metadata": {},
   "outputs": [
    {
     "name": "stdout",
     "output_type": "stream",
     "text": [
      "The most common violent crime in LA is BATTERY - SIMPLE ASSAULT with 73376 occurrences.\n"
     ]
    }
   ],
   "source": [
    "# Filtering data for violent crimes only\n",
    "df_violent = df[df['Crm Cd Desc'].isin(violent_crimes)]\n",
    "\n",
    "# Finding the most common violent crime\n",
    "crime_counts_violent = df_violent['Crm Cd Desc'].value_counts()\n",
    "most_common_violent_crime = crime_counts_violent.idxmax()\n",
    "most_common_violent_crime_count = crime_counts_violent.max()\n",
    "\n",
    "print(f'The most common violent crime in LA is {most_common_violent_crime} with {most_common_violent_crime_count} occurrences.')"
   ]
  },
  {
   "cell_type": "code",
   "execution_count": 8,
   "id": "e5aa0d6f",
   "metadata": {},
   "outputs": [
    {
     "name": "stderr",
     "output_type": "stream",
     "text": [
      "C:\\Users\\bigbo\\AppData\\Local\\Temp\\ipykernel_30196\\353141010.py:2: UserWarning: Could not infer format, so each element will be parsed individually, falling back to `dateutil`. To ensure parsing is consistent and as-expected, please specify a format.\n",
      "  df['DATE OCC'] = pd.to_datetime(df['DATE OCC'])\n"
     ]
    },
    {
     "name": "stdout",
     "output_type": "stream",
     "text": [
      "Number of battery - simple assault cases each year:\n",
      "Year\n",
      "2020    16330\n",
      "2021    16198\n",
      "2022    18058\n",
      "2023    18830\n",
      "2024     3960\n",
      "dtype: int64\n"
     ]
    },
    {
     "name": "stderr",
     "output_type": "stream",
     "text": [
      "C:\\Users\\bigbo\\AppData\\Local\\Temp\\ipykernel_30196\\353141010.py:8: SettingWithCopyWarning: \n",
      "A value is trying to be set on a copy of a slice from a DataFrame.\n",
      "Try using .loc[row_indexer,col_indexer] = value instead\n",
      "\n",
      "See the caveats in the documentation: https://pandas.pydata.org/pandas-docs/stable/user_guide/indexing.html#returning-a-view-versus-a-copy\n",
      "  df_battery['Year'] = df_battery['DATE OCC'].dt.year\n"
     ]
    }
   ],
   "source": [
    "# Convert 'DATE OCC' to datetime format\n",
    "df['DATE OCC'] = pd.to_datetime(df['DATE OCC'])\n",
    "\n",
    "# Filtering data for 'BATTERY - SIMPLE ASSAULT'\n",
    "df_battery = df[df['Crm Cd Desc'] == 'BATTERY - SIMPLE ASSAULT']\n",
    "\n",
    "# Extract the year from 'DATE OCC' now that it's a datetime object\n",
    "df_battery['Year'] = df_battery['DATE OCC'].dt.year\n",
    "\n",
    "# Group by year and count occurrences\n",
    "year_counts_battery = df_battery.groupby('Year').size()\n",
    "\n",
    "print('Number of battery - simple assault cases each year:')\n",
    "print(year_counts_battery)"
   ]
  },
  {
   "cell_type": "code",
   "execution_count": 9,
   "id": "bc2c1d66",
   "metadata": {},
   "outputs": [
    {
     "name": "stdout",
     "output_type": "stream",
     "text": [
      "Areas where battery - simple assault most often occurs:\n",
      "Area Name\n",
      "Central        6728\n",
      "77th Street    4571\n",
      "Hollywood      4467\n",
      "Southwest      4398\n",
      "Olympic        4371\n",
      "Newton         4145\n",
      "Rampart        4113\n",
      "Southeast      3833\n",
      "N Hollywood    3301\n",
      "Pacific        3238\n",
      "Name: count, dtype: int64\n"
     ]
    },
    {
     "name": "stderr",
     "output_type": "stream",
     "text": [
      "C:\\Users\\bigbo\\AppData\\Local\\Temp\\ipykernel_30196\\798583319.py:2: SettingWithCopyWarning: \n",
      "A value is trying to be set on a copy of a slice from a DataFrame.\n",
      "Try using .loc[row_indexer,col_indexer] = value instead\n",
      "\n",
      "See the caveats in the documentation: https://pandas.pydata.org/pandas-docs/stable/user_guide/indexing.html#returning-a-view-versus-a-copy\n",
      "  df_battery['Area Name'] = df_battery['AREA NAME']\n"
     ]
    }
   ],
   "source": [
    "# Analyzing the areas where battery - simple assault most often occurs\n",
    "df_battery['Area Name'] = df_battery['AREA NAME']\n",
    "area_counts_battery = df_battery['Area Name'].value_counts()\n",
    "\n",
    "print('Areas where battery - simple assault most often occurs:')\n",
    "print(area_counts_battery.head(10))"
   ]
  },
  {
   "cell_type": "code",
   "execution_count": 10,
   "id": "aadca718",
   "metadata": {},
   "outputs": [
    {
     "name": "stderr",
     "output_type": "stream",
     "text": [
      "C:\\Users\\bigbo\\AppData\\Local\\Temp\\ipykernel_30196\\4075290099.py:15: SettingWithCopyWarning: \n",
      "A value is trying to be set on a copy of a slice from a DataFrame.\n",
      "Try using .loc[row_indexer,col_indexer] = value instead\n",
      "\n",
      "See the caveats in the documentation: https://pandas.pydata.org/pandas-docs/stable/user_guide/indexing.html#returning-a-view-versus-a-copy\n",
      "  df_violent['Year'] = pd.to_datetime(df_violent['DATE OCC']).dt.year\n",
      "C:\\Users\\bigbo\\AppData\\Local\\Temp\\ipykernel_30196\\4075290099.py:16: SettingWithCopyWarning: \n",
      "A value is trying to be set on a copy of a slice from a DataFrame.\n",
      "Try using .loc[row_indexer,col_indexer] = value instead\n",
      "\n",
      "See the caveats in the documentation: https://pandas.pydata.org/pandas-docs/stable/user_guide/indexing.html#returning-a-view-versus-a-copy\n",
      "  df_petty['Year'] = pd.to_datetime(df_petty['DATE OCC']).dt.year\n"
     ]
    },
    {
     "data": {
      "image/png": "[encoded data removed]",
      "text/plain": [
       "<Figure size 1000x500 with 1 Axes>"
      ]
     },
     "metadata": {},
     "output_type": "display_data"
    }
   ],
   "source": [
    "import matplotlib.pyplot as plt\n",
    "\n",
    "\n",
    "\n",
    "# Defining violent and petty crimes categories\n",
    "violent_crimes = ['BATTERY - SIMPLE ASSAULT', 'ASSAULT WITH DEADLY WEAPON, AGGRAVATED ASSAULT',\n",
    "                  'RAPE, FORCIBLE', 'ROBBERY', 'CRIMINAL HOMICIDE']\n",
    "petty_crimes = ['THEFT PETTY - PLAIN - $950 & UNDER', 'VANDALISM - MISDEAMEANOR ($399 OR UNDER)']\n",
    "\n",
    "# Filtering data for violent and petty crimes\n",
    "df_violent = df[df['Crm Cd Desc'].isin(violent_crimes)]\n",
    "df_petty = df[df['Crm Cd Desc'].isin(petty_crimes)]\n",
    "\n",
    "# Extracting year from date\n",
    "df_violent['Year'] = pd.to_datetime(df_violent['DATE OCC']).dt.year\n",
    "df_petty['Year'] = pd.to_datetime(df_petty['DATE OCC']).dt.year\n",
    "\n",
    "# Grouping by year and counting occurrences\n",
    "year_counts_violent = df_violent.groupby('Year').size()\n",
    "year_counts_petty = df_petty.groupby('Year').size()\n",
    "\n",
    "# Plotting the line graph\n",
    "plt.figure(figsize=(10, 5), facecolor='white')\n",
    "plt.plot(year_counts_violent.index, year_counts_violent.values, label='Violent Crimes', marker='o')\n",
    "plt.plot(year_counts_petty.index, year_counts_petty.values, label='Petty Crimes', marker='o')\n",
    "plt.title('Comparison of Violent Crimes and Petty Crimes Over Time')\n",
    "plt.xlabel('Year')\n",
    "plt.ylabel('Number of Crimes')\n",
    "plt.legend()\n",
    "plt.grid(True)\n",
    "plt.show()"
   ]
  }
 ],
 "metadata": {
  "kernelspec": {
   "display_name": "base",
   "language": "python",
   "name": "python3"
  },
  "language_info": {
   "codemirror_mode": {
    "name": "ipython",
    "version": 3
   },
   "file_extension": ".py",
   "mimetype": "text/x-python",
   "name": "python",
   "nbconvert_exporter": "python",
   "pygments_lexer": "ipython3",
   "version": "3.11.5"
  }
 },
 "nbformat": 4,
 "nbformat_minor": 5
}
